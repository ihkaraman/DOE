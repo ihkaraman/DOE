{
 "cells": [
  {
   "cell_type": "code",
   "execution_count": 1,
   "metadata": {},
   "outputs": [],
   "source": [
    "import pandas as pd\n",
    "import numpy as np\n",
    "import math\n",
    "import scipy.stats as stats\n",
    "import random as ran"
   ]
  },
  {
   "cell_type": "code",
   "execution_count": 2,
   "metadata": {},
   "outputs": [],
   "source": [
    "activeThreshold = 2 \n",
    "runSayisi = 3 # initial run sayısı\n",
    "d2 = 1.693\n",
    "RmThres = 1.07\n",
    "#coef = np.array([25,112,0.4,1111,0.01,48,3])\n",
    "interc = 0\n",
    "run = 0\n",
    "totalRun = 0\n"
   ]
  },
  {
   "cell_type": "code",
   "execution_count": 3,
   "metadata": {},
   "outputs": [],
   "source": [
    "f3 = pd.read_excel('1.xlsx', index_col=0, sheet_name='3Factor')\n",
    "f3Err = pd.read_excel('1.xlsx', index_col=0, sheet_name='3Error')\n",
    "f9 = pd.read_excel('1.xlsx', index_col=0, sheet_name='9Factor')\n",
    "f9Err = pd.read_excel('1.xlsx', index_col=0, sheet_name='9Error')"
   ]
  },
  {
   "cell_type": "code",
   "execution_count": 4,
   "metadata": {},
   "outputs": [
    {
     "data": {
      "text/plain": [
       "'\\nnp.random.normal(0, 2)\\nnp.random.normal(0, 8)\\n'"
      ]
     },
     "execution_count": 4,
     "metadata": {},
     "output_type": "execute_result"
    }
   ],
   "source": [
    "    # settings\n",
    "    factor = 9\n",
    "    nfactor = 3\n",
    "    error = 'ErrorLow'\n",
    "    factorExcel = f9\n",
    "    errorExcel =  f9Err\n",
    "    '''\n",
    "    np.random.normal(0, 2)\n",
    "    np.random.normal(0, 8)\n",
    "    '''"
   ]
  },
  {
   "cell_type": "markdown",
   "metadata": {},
   "source": [
    "## dikkat edilmesi gerekenler\n",
    "\n",
    "shainin VS metodunda faktörlerin önem sırasına göre sıralandığı varsayılır. Faktörler önem sırasına göre sıralanmalıdır.\n"
   ]
  },
  {
   "cell_type": "code",
   "execution_count": 5,
   "metadata": {},
   "outputs": [],
   "source": [
    "def fillInteractions(X):\n",
    "        # Fill Interaction Terms\n",
    "    X = pd.DataFrame(X)\n",
    "    shape = X.shape\n",
    "    num_measurement = shape[0]\n",
    "    num_factors = shape[1]\n",
    "    num_interactions = num_factors*(num_factors-1)/2\n",
    "    interaction_counter1 = 0\n",
    "    interaction_counter2 = 1\n",
    "    interaction_counter3 = num_factors - 1\n",
    "    title_counter = num_factors\n",
    "    for i in range(num_factors):\n",
    "        for j in range(interaction_counter3):\n",
    "            add_column = X[interaction_counter1] * X[interaction_counter2 + j]\n",
    "            X[str(title_counter)] = add_column\n",
    "            title_counter = title_counter + 1\n",
    "        interaction_counter1 = interaction_counter1 + 1\n",
    "        interaction_counter2 = interaction_counter2 + 1\n",
    "        interaction_counter3 = interaction_counter3 - 1\n",
    "\n",
    "    # Fill Quadratic Terms\n",
    "    title_counter = num_factors + num_interactions\n",
    "    for i in range(num_factors):\n",
    "        add_column = X[i]*X[i]\n",
    "        X[str(title_counter)] = add_column\n",
    "        title_counter = title_counter + 1\n",
    "    return X"
   ]
  },
  {
   "cell_type": "code",
   "execution_count": 6,
   "metadata": {},
   "outputs": [],
   "source": [
    "def runModel(Xrr): \n",
    "    y = np.zeros((Xrr.shape[0],1))\n",
    "    X1 = pd.DataFrame(Xrr)\n",
    "    X = fillInteractions(X1)\n",
    "    Xmat = X\n",
    "    a = Xrr.shape[0]\n",
    "    b = Xrr.shape[1]\n",
    "    '''\n",
    "    facts = np.ones((1,1))\n",
    "    for i in Xrr:\n",
    "        i = i.astype(int)\n",
    "        facts1 = \",\".join(map(str, i))\n",
    "        facts = np.vstack([facts, facts1]) \n",
    "    facts = np.delete(facts, 0,0)\n",
    "    a = pd.DataFrame(facts)\n",
    "    X['facts'] = facts\n",
    "    print(facts)\n",
    "    '''\n",
    "\n",
    "    for index1, row1 in X1.iterrows():\n",
    "        for index2, row2 in factorExcel.iterrows():\n",
    "            if nfactor == row2['f']:\n",
    "                coef = row2[1:]\n",
    "                xx1 = np.array(row1[0:])\n",
    "                xx2 = np.sum(np.multiply(xx1, coef))\n",
    "                y[index1,0] = xx2 + np.random.normal(0, 2)\n",
    "    global run\n",
    "    run = run + y.shape[1]\n",
    "    '''\n",
    "    X.to_excel('9FF.xlsx', engine='xlsxwriter')\n",
    "    '''\n",
    "    return y"
   ]
  },
  {
   "cell_type": "code",
   "execution_count": 7,
   "metadata": {},
   "outputs": [],
   "source": [
    "def stage1X(factor):\n",
    "    Xbest = np.ones((runSayisi,factor))\n",
    "    Xworst = -1*np.ones((runSayisi,factor))\n",
    "    return Xbest, Xworst"
   ]
  },
  {
   "cell_type": "code",
   "execution_count": 8,
   "metadata": {},
   "outputs": [],
   "source": [
    "def computeR(ybest, yworst):\n",
    "    print('ybest, yworst')\n",
    "    print(ybest,'- ',  yworst)\n",
    "    Mb = np.median(ybest)\n",
    "    Mw = np.median(yworst)\n",
    "    Rb = np.max(ybest) - np.min(ybest)\n",
    "    Rw = np.max(yworst) - np.min(yworst)\n",
    "    Rm = (Mb-Mw)/ ((Rb+Rw)/2)\n",
    "    print('Rm:', Rm)\n",
    "    return Rm"
   ]
  },
  {
   "cell_type": "code",
   "execution_count": 9,
   "metadata": {},
   "outputs": [],
   "source": [
    "def step1(factor):\n",
    "    Xbest, Xworst = stage1X(factor)\n",
    "    print('Xbest')\n",
    "    print(Xbest)\n",
    "    ybest = runModel(Xbest)\n",
    "    print('ybest')\n",
    "    print(ybest)\n",
    "    yworst = runModel(Xworst)\n",
    "    Rm = computeR(ybest, yworst)\n",
    "    return Rm, ybest, yworst"
   ]
  },
  {
   "cell_type": "code",
   "execution_count": 10,
   "metadata": {},
   "outputs": [],
   "source": [
    "# CI calculation with t test (df 4)\n",
    "def calculateCI(ybest, yworst):\n",
    "    Mb = np.median(ybest)\n",
    "    Mw = np.median(yworst)\n",
    "    Rb = np.max(ybest) - np.min(ybest)\n",
    "    Rw = np.max(yworst) - np.min(yworst)\n",
    "    Ravg= ((Rb+Rw)/2)\n",
    "    interval = (2.776*Ravg)/d2\n",
    "    CIb = np.array([Mb-interval, Mb+interval])\n",
    "    CIw = np.array([Mw-interval,Mw+interval])\n",
    "    print('CIb : ',CIb)\n",
    "    print('CIw : ',CIw)\n",
    "    return CIb, CIw"
   ]
  },
  {
   "cell_type": "code",
   "execution_count": 11,
   "metadata": {},
   "outputs": [],
   "source": [
    "def CIcontrol(y, CIb, CIw):\n",
    "    print('----------------------------------------------------------')\n",
    "    print(y.shape, CIb.shape, CIw.shape)\n",
    "    if ((CIb[0] < y[0][0]) and (y[0][0] < CIb[1])) and ((CIw[0] < y[0][1]) and (y[0][1] < CIw[1])):\n",
    "        return True\n",
    "    else:\n",
    "        return False"
   ]
  },
  {
   "cell_type": "code",
   "execution_count": 12,
   "metadata": {},
   "outputs": [],
   "source": [
    "def swapping(i,CIb, CIw):\n",
    "    X1 = np.ones((1,factor))\n",
    "    X1[0,i] = -1\n",
    "    X = X1\n",
    "    X = np.vstack([X, -1*X1])  \n",
    "    y = runModel(X)\n",
    "    return CIcontrol(y, CIb, CIw)"
   ]
  },
  {
   "cell_type": "code",
   "execution_count": 13,
   "metadata": {},
   "outputs": [],
   "source": [
    "def capping(actives,CIb, CIw):\n",
    "    if actives.sum() >= activeThreshold:\n",
    "        activesX = actives*2 - 1\n",
    "        activesX = np.vstack([activesX, -1*activesX])\n",
    "        y = runModel(activesX)\n",
    "        return CIcontrol(y, CIb, CIw)\n",
    "    else:\n",
    "        return False"
   ]
  },
  {
   "cell_type": "code",
   "execution_count": 14,
   "metadata": {},
   "outputs": [],
   "source": [
    "def sonucYazdir(p, beta, sigmaSqP, RoP):\n",
    "    print('                 Results                 ')\n",
    "    print('---------------------------------------- ')\n",
    "    print('Number of active factors: ', p)\n",
    "    print('Pairwise correlation:  ', RoP)\n",
    "    print('Variance of estimated main effects: ', sigmaSqP)\n",
    "    print('Coefficietns:')\n",
    "    print(coef)\n",
    "    print('Beta matrix: ')\n",
    "    print(beta)\n",
    "    print('Total run number: ')\n",
    "    print(totalRun)"
   ]
  },
  {
   "cell_type": "code",
   "execution_count": 15,
   "metadata": {},
   "outputs": [],
   "source": [
    "# Xp bulma\n",
    "def findXp(p):\n",
    "    X1 = np.ones((1,p))\n",
    "    X = X1\n",
    "    X = np.vstack([X, -1*X1])  \n",
    "    for i in range(p):\n",
    "        X1 = np.ones((1,p))\n",
    "        X1[0][i] = -1\n",
    "        X = np.vstack([X, X1])\n",
    "        X = np.vstack([X, -1*X1])\n",
    "    return X"
   ]
  },
  {
   "cell_type": "code",
   "execution_count": 16,
   "metadata": {},
   "outputs": [],
   "source": [
    "# B main bulma\n",
    "def betaMatris(Xp, y):\n",
    "    XpT = np.transpose(Xp)\n",
    "    tmp1 = np.linalg.inv(XpT.dot(Xp))\n",
    "    tmp2 = tmp1.dot(XpT)\n",
    "    beta = tmp2.dot(np.transpose(y))\n",
    "    return beta"
   ]
  },
  {
   "cell_type": "code",
   "execution_count": 17,
   "metadata": {},
   "outputs": [],
   "source": [
    "# sigmaP :variance of estimated main effects when there are p active factors\n",
    "def calculateVariance(p, sigmaSq):\n",
    "    return ((p*p-4*p+7)*sigmaSq)/(8*(p*p-3*p+4))"
   ]
  },
  {
   "cell_type": "code",
   "execution_count": 18,
   "metadata": {},
   "outputs": [],
   "source": [
    "# roP : pairwise correlation of estimated main effects when there are p active factors\n",
    "def calculateRoP(p):\n",
    "    return -(p-3)/(p*p-4*p+7)"
   ]
  },
  {
   "cell_type": "code",
   "execution_count": 19,
   "metadata": {},
   "outputs": [],
   "source": [
    "def step2(ybest, yworst):\n",
    "    # CI hesaplama\n",
    "    CIb, CIw = calculateCI(ybest, yworst)\n",
    "\n",
    "    # aktif faktörleri tutan array\n",
    "    actives = np.zeros((1,factor))\n",
    "    i=0\n",
    "\n",
    "    while i<factor:\n",
    "        if not swapping(i, CIb, CIw):\n",
    "            actives[0][i]=1\n",
    "            print(i+1,'. faktör aktiftir.')\n",
    "            if capping(actives,CIb, CIw):\n",
    "                print('Algoritma tamamlandı')\n",
    "                break\n",
    "            else:\n",
    "                i = i+1\n",
    "        else:\n",
    "            i = i+1\n",
    "    return actives"
   ]
  },
  {
   "cell_type": "code",
   "execution_count": 20,
   "metadata": {},
   "outputs": [],
   "source": [
    "def findXpAll(XpAll, actives):\n",
    "    for i in actives[0]:\n",
    "        if i == 0:\n",
    "            XpAll = np.insert(XpAll, int(i), 0, axis = 1) \n",
    "    return XpAll"
   ]
  },
  {
   "cell_type": "code",
   "execution_count": 21,
   "metadata": {},
   "outputs": [],
   "source": [
    "def findXpAll(XpAll, actives):\n",
    "    for i in actives[0]:\n",
    "        if i == 0:\n",
    "            XpAll = np.insert(XpAll, int(i), 0, axis = 1) \n",
    "    return XpAll"
   ]
  },
  {
   "cell_type": "code",
   "execution_count": 22,
   "metadata": {},
   "outputs": [
    {
     "name": "stdout",
     "output_type": "stream",
     "text": [
      "Xbest\n",
      "[[1. 1. 1. 1. 1. 1. 1. 1. 1.]\n",
      " [1. 1. 1. 1. 1. 1. 1. 1. 1.]\n",
      " [1. 1. 1. 1. 1. 1. 1. 1. 1.]]\n",
      "ybest\n",
      "[[-47.92302709]\n",
      " [-48.60050235]\n",
      " [-50.34890826]]\n",
      "ybest, yworst\n",
      "[[-47.92302709]\n",
      " [-48.60050235]\n",
      " [-50.34890826]] -  [[-84.93248618]\n",
      " [-88.94677991]\n",
      " [-88.23583611]]\n",
      "Rm: 12.308775591806723\n",
      "Move on to the next stage!\n",
      "CIb :  [-53.88045672 -43.32054798]\n",
      "CIw :  [-93.51579048 -82.95588174]\n",
      "----------------------------------------------------------\n",
      "(2, 1) (2,) (2,)\n",
      "1 . faktör aktiftir.\n",
      "----------------------------------------------------------\n",
      "(2, 1) (2,) (2,)\n",
      "2 . faktör aktiftir.\n",
      "----------------------------------------------------------\n",
      "(2, 1) (2,) (2,)\n",
      "----------------------------------------------------------\n",
      "(2, 1) (2,) (2,)\n",
      "3 . faktör aktiftir.\n",
      "----------------------------------------------------------\n",
      "(2, 1) (2,) (2,)\n"
     ]
    },
    {
     "ename": "IndexError",
     "evalue": "index 1 is out of bounds for axis 0 with size 1",
     "output_type": "error",
     "traceback": [
      "\u001b[1;31m---------------------------------------------------------------------------\u001b[0m",
      "\u001b[1;31mIndexError\u001b[0m                                Traceback (most recent call last)",
      "\u001b[1;32m<ipython-input-22-55bbcd38da5a>\u001b[0m in \u001b[0;36m<module>\u001b[1;34m\u001b[0m\n\u001b[0;32m      3\u001b[0m \u001b[1;32mif\u001b[0m  \u001b[0mRm\u001b[0m \u001b[1;33m>\u001b[0m \u001b[0mRmThres\u001b[0m\u001b[1;33m:\u001b[0m\u001b[1;33m\u001b[0m\u001b[1;33m\u001b[0m\u001b[0m\n\u001b[0;32m      4\u001b[0m     \u001b[0mprint\u001b[0m\u001b[1;33m(\u001b[0m\u001b[1;34m'Move on to the next stage!'\u001b[0m\u001b[1;33m)\u001b[0m\u001b[1;33m\u001b[0m\u001b[1;33m\u001b[0m\u001b[0m\n\u001b[1;32m----> 5\u001b[1;33m     \u001b[0mactives\u001b[0m \u001b[1;33m=\u001b[0m \u001b[0mstep2\u001b[0m\u001b[1;33m(\u001b[0m\u001b[0mybest\u001b[0m\u001b[1;33m,\u001b[0m \u001b[0myworst\u001b[0m\u001b[1;33m)\u001b[0m\u001b[1;33m\u001b[0m\u001b[1;33m\u001b[0m\u001b[0m\n\u001b[0m\u001b[0;32m      6\u001b[0m \u001b[1;32melse\u001b[0m\u001b[1;33m:\u001b[0m\u001b[1;33m\u001b[0m\u001b[1;33m\u001b[0m\u001b[0m\n\u001b[0;32m      7\u001b[0m     \u001b[0mprint\u001b[0m\u001b[1;33m(\u001b[0m\u001b[1;34m'There is no active factor!'\u001b[0m\u001b[1;33m)\u001b[0m\u001b[1;33m\u001b[0m\u001b[1;33m\u001b[0m\u001b[0m\n",
      "\u001b[1;32m<ipython-input-19-ca634dc10f09>\u001b[0m in \u001b[0;36mstep2\u001b[1;34m(ybest, yworst)\u001b[0m\n\u001b[0;32m     11\u001b[0m             \u001b[0mactives\u001b[0m\u001b[1;33m[\u001b[0m\u001b[1;36m0\u001b[0m\u001b[1;33m]\u001b[0m\u001b[1;33m[\u001b[0m\u001b[0mi\u001b[0m\u001b[1;33m]\u001b[0m\u001b[1;33m=\u001b[0m\u001b[1;36m1\u001b[0m\u001b[1;33m\u001b[0m\u001b[1;33m\u001b[0m\u001b[0m\n\u001b[0;32m     12\u001b[0m             \u001b[0mprint\u001b[0m\u001b[1;33m(\u001b[0m\u001b[0mi\u001b[0m\u001b[1;33m+\u001b[0m\u001b[1;36m1\u001b[0m\u001b[1;33m,\u001b[0m\u001b[1;34m'. faktör aktiftir.'\u001b[0m\u001b[1;33m)\u001b[0m\u001b[1;33m\u001b[0m\u001b[1;33m\u001b[0m\u001b[0m\n\u001b[1;32m---> 13\u001b[1;33m             \u001b[1;32mif\u001b[0m \u001b[0mcapping\u001b[0m\u001b[1;33m(\u001b[0m\u001b[0mactives\u001b[0m\u001b[1;33m,\u001b[0m\u001b[0mCIb\u001b[0m\u001b[1;33m,\u001b[0m \u001b[0mCIw\u001b[0m\u001b[1;33m)\u001b[0m\u001b[1;33m:\u001b[0m\u001b[1;33m\u001b[0m\u001b[1;33m\u001b[0m\u001b[0m\n\u001b[0m\u001b[0;32m     14\u001b[0m                 \u001b[0mprint\u001b[0m\u001b[1;33m(\u001b[0m\u001b[1;34m'Algoritma tamamlandı'\u001b[0m\u001b[1;33m)\u001b[0m\u001b[1;33m\u001b[0m\u001b[1;33m\u001b[0m\u001b[0m\n\u001b[0;32m     15\u001b[0m                 \u001b[1;32mbreak\u001b[0m\u001b[1;33m\u001b[0m\u001b[1;33m\u001b[0m\u001b[0m\n",
      "\u001b[1;32m<ipython-input-13-13ca29257c0f>\u001b[0m in \u001b[0;36mcapping\u001b[1;34m(actives, CIb, CIw)\u001b[0m\n\u001b[0;32m      4\u001b[0m         \u001b[0mactivesX\u001b[0m \u001b[1;33m=\u001b[0m \u001b[0mnp\u001b[0m\u001b[1;33m.\u001b[0m\u001b[0mvstack\u001b[0m\u001b[1;33m(\u001b[0m\u001b[1;33m[\u001b[0m\u001b[0mactivesX\u001b[0m\u001b[1;33m,\u001b[0m \u001b[1;33m-\u001b[0m\u001b[1;36m1\u001b[0m\u001b[1;33m*\u001b[0m\u001b[0mactivesX\u001b[0m\u001b[1;33m]\u001b[0m\u001b[1;33m)\u001b[0m\u001b[1;33m\u001b[0m\u001b[1;33m\u001b[0m\u001b[0m\n\u001b[0;32m      5\u001b[0m         \u001b[0my\u001b[0m \u001b[1;33m=\u001b[0m \u001b[0mrunModel\u001b[0m\u001b[1;33m(\u001b[0m\u001b[0mactivesX\u001b[0m\u001b[1;33m)\u001b[0m\u001b[1;33m\u001b[0m\u001b[1;33m\u001b[0m\u001b[0m\n\u001b[1;32m----> 6\u001b[1;33m         \u001b[1;32mreturn\u001b[0m \u001b[0mCIcontrol\u001b[0m\u001b[1;33m(\u001b[0m\u001b[0my\u001b[0m\u001b[1;33m,\u001b[0m \u001b[0mCIb\u001b[0m\u001b[1;33m,\u001b[0m \u001b[0mCIw\u001b[0m\u001b[1;33m)\u001b[0m\u001b[1;33m\u001b[0m\u001b[1;33m\u001b[0m\u001b[0m\n\u001b[0m\u001b[0;32m      7\u001b[0m     \u001b[1;32melse\u001b[0m\u001b[1;33m:\u001b[0m\u001b[1;33m\u001b[0m\u001b[1;33m\u001b[0m\u001b[0m\n\u001b[0;32m      8\u001b[0m         \u001b[1;32mreturn\u001b[0m \u001b[1;32mFalse\u001b[0m\u001b[1;33m\u001b[0m\u001b[1;33m\u001b[0m\u001b[0m\n",
      "\u001b[1;32m<ipython-input-11-cae0e1f81b1c>\u001b[0m in \u001b[0;36mCIcontrol\u001b[1;34m(y, CIb, CIw)\u001b[0m\n\u001b[0;32m      2\u001b[0m     \u001b[0mprint\u001b[0m\u001b[1;33m(\u001b[0m\u001b[1;34m'----------------------------------------------------------'\u001b[0m\u001b[1;33m)\u001b[0m\u001b[1;33m\u001b[0m\u001b[1;33m\u001b[0m\u001b[0m\n\u001b[0;32m      3\u001b[0m     \u001b[0mprint\u001b[0m\u001b[1;33m(\u001b[0m\u001b[0my\u001b[0m\u001b[1;33m.\u001b[0m\u001b[0mshape\u001b[0m\u001b[1;33m,\u001b[0m \u001b[0mCIb\u001b[0m\u001b[1;33m.\u001b[0m\u001b[0mshape\u001b[0m\u001b[1;33m,\u001b[0m \u001b[0mCIw\u001b[0m\u001b[1;33m.\u001b[0m\u001b[0mshape\u001b[0m\u001b[1;33m)\u001b[0m\u001b[1;33m\u001b[0m\u001b[1;33m\u001b[0m\u001b[0m\n\u001b[1;32m----> 4\u001b[1;33m     \u001b[1;32mif\u001b[0m \u001b[1;33m(\u001b[0m\u001b[1;33m(\u001b[0m\u001b[0mCIb\u001b[0m\u001b[1;33m[\u001b[0m\u001b[1;36m0\u001b[0m\u001b[1;33m]\u001b[0m \u001b[1;33m<\u001b[0m \u001b[0my\u001b[0m\u001b[1;33m[\u001b[0m\u001b[1;36m0\u001b[0m\u001b[1;33m]\u001b[0m\u001b[1;33m[\u001b[0m\u001b[1;36m0\u001b[0m\u001b[1;33m]\u001b[0m\u001b[1;33m)\u001b[0m \u001b[1;32mand\u001b[0m \u001b[1;33m(\u001b[0m\u001b[0my\u001b[0m\u001b[1;33m[\u001b[0m\u001b[1;36m0\u001b[0m\u001b[1;33m]\u001b[0m\u001b[1;33m[\u001b[0m\u001b[1;36m0\u001b[0m\u001b[1;33m]\u001b[0m \u001b[1;33m<\u001b[0m \u001b[0mCIb\u001b[0m\u001b[1;33m[\u001b[0m\u001b[1;36m1\u001b[0m\u001b[1;33m]\u001b[0m\u001b[1;33m)\u001b[0m\u001b[1;33m)\u001b[0m \u001b[1;32mand\u001b[0m \u001b[1;33m(\u001b[0m\u001b[1;33m(\u001b[0m\u001b[0mCIw\u001b[0m\u001b[1;33m[\u001b[0m\u001b[1;36m0\u001b[0m\u001b[1;33m]\u001b[0m \u001b[1;33m<\u001b[0m \u001b[0my\u001b[0m\u001b[1;33m[\u001b[0m\u001b[1;36m0\u001b[0m\u001b[1;33m]\u001b[0m\u001b[1;33m[\u001b[0m\u001b[1;36m1\u001b[0m\u001b[1;33m]\u001b[0m\u001b[1;33m)\u001b[0m \u001b[1;32mand\u001b[0m \u001b[1;33m(\u001b[0m\u001b[0my\u001b[0m\u001b[1;33m[\u001b[0m\u001b[1;36m0\u001b[0m\u001b[1;33m]\u001b[0m\u001b[1;33m[\u001b[0m\u001b[1;36m1\u001b[0m\u001b[1;33m]\u001b[0m \u001b[1;33m<\u001b[0m \u001b[0mCIw\u001b[0m\u001b[1;33m[\u001b[0m\u001b[1;36m1\u001b[0m\u001b[1;33m]\u001b[0m\u001b[1;33m)\u001b[0m\u001b[1;33m)\u001b[0m\u001b[1;33m:\u001b[0m\u001b[1;33m\u001b[0m\u001b[1;33m\u001b[0m\u001b[0m\n\u001b[0m\u001b[0;32m      5\u001b[0m         \u001b[1;32mreturn\u001b[0m \u001b[1;32mTrue\u001b[0m\u001b[1;33m\u001b[0m\u001b[1;33m\u001b[0m\u001b[0m\n\u001b[0;32m      6\u001b[0m     \u001b[1;32melse\u001b[0m\u001b[1;33m:\u001b[0m\u001b[1;33m\u001b[0m\u001b[1;33m\u001b[0m\u001b[0m\n",
      "\u001b[1;31mIndexError\u001b[0m: index 1 is out of bounds for axis 0 with size 1"
     ]
    }
   ],
   "source": [
    "# algoritma\n",
    "Rm, ybest, yworst = step1(factor)\n",
    "if  Rm > RmThres:\n",
    "    print('Move on to the next stage!')\n",
    "    actives = step2(ybest, yworst)\n",
    "else:\n",
    "    print('There is no active factor!')\n",
    "print('Active factores: ')\n",
    "print(actives)\n",
    "# p = int(actives.sum()) # p represents # of active factors\n",
    "#print('p:  ', p)\n",
    "#Xp = findXp(p)\n",
    "# y = runModel(findXpAll(Xp, actives))\n",
    "p = factor\n",
    "Xp = findXp(p)\n",
    "totalRun = run\n",
    "y = runModel(Xp)\n",
    "\n",
    "beta = betaMatris(Xp, y)\n",
    "sigmaSq = 1\n",
    "sigmaSqP = calculateVariance(p, sigmaSq)\n",
    "RoP = calculateRoP(p)\n",
    "sonucYazdir(p, beta, sigmaSqP, RoP)\n",
    "\n"
   ]
  },
  {
   "cell_type": "code",
   "execution_count": null,
   "metadata": {},
   "outputs": [],
   "source": [
    "for i in range(factor):\n",
    "    print(coef[0]/beta[0])"
   ]
  },
  {
   "cell_type": "markdown",
   "metadata": {},
   "source": [
    "yaapılacaklar :\n",
    "    r sq\n",
    "    performans measure ları"
   ]
  },
  {
   "cell_type": "code",
   "execution_count": null,
   "metadata": {},
   "outputs": [],
   "source": []
  }
 ],
 "metadata": {
  "kernelspec": {
   "display_name": "Python 3",
   "language": "python",
   "name": "python3"
  },
  "language_info": {
   "codemirror_mode": {
    "name": "ipython",
    "version": 3
   },
   "file_extension": ".py",
   "mimetype": "text/x-python",
   "name": "python",
   "nbconvert_exporter": "python",
   "pygments_lexer": "ipython3",
   "version": "3.7.3"
  }
 },
 "nbformat": 4,
 "nbformat_minor": 2
}
